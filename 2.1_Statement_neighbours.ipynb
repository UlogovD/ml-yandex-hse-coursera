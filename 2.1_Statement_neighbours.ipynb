{
 "cells": [
  {
   "cell_type": "markdown",
   "metadata": {},
   "source": [
    "# Выбор числа соседей"
   ]
  },
  {
   "cell_type": "code",
   "execution_count": null,
   "metadata": {},
   "outputs": [],
   "source": [
    "# Подбор соседей в методе kNN\n",
    "# В этом задании вам нужно подобрать оптимальное значение k для алгоритма kNN. \n",
    "# Будем использовать набор данных Wine, где требуется предсказать сорт винограда, из которого изготовлено вино"
   ]
  },
  {
   "cell_type": "code",
   "execution_count": 6,
   "metadata": {},
   "outputs": [],
   "source": [
    "import pandas as pd\n",
    "import sklearn\n",
    "from sklearn.cross_validation import KFold, cross_val_score\n",
    "from sklearn.neighbors import KNeighborsClassifier\n"
   ]
  },
  {
   "cell_type": "code",
   "execution_count": 7,
   "metadata": {},
   "outputs": [],
   "source": [
    "# Загрузите выборку и извлеките из данных признаки и классы\n",
    "# Класс записан в первом столбце, признаки - со второго по последний\n",
    "\n",
    "df = pd.read_csv(r'C:\\Anaconda\\Lib\\site-packages\\pandas\\data\\wine.data', header=None)\n",
    "y = df[0]\n",
    "X = df.loc[:, 1:]\n"
   ]
  },
  {
   "cell_type": "code",
   "execution_count": 8,
   "metadata": {},
   "outputs": [],
   "source": [
    "# Оценку качества необходимо провести методом кросс-валидации по 5 блокам (5-fold)\n",
    "\n",
    "kf = KFold(len(y), n_folds=5, shuffle=True, random_state=42)"
   ]
  },
  {
   "cell_type": "code",
   "execution_count": 9,
   "metadata": {},
   "outputs": [
    {
     "data": {
      "text/plain": [
       "sklearn.cross_validation.KFold(n=178, n_folds=5, shuffle=True, random_state=42)"
      ]
     },
     "execution_count": 9,
     "metadata": {},
     "output_type": "execute_result"
    }
   ],
   "source": [
    "kf"
   ]
  },
  {
   "cell_type": "code",
   "execution_count": 17,
   "metadata": {},
   "outputs": [],
   "source": [
    "# Найдите точность классификации на кросс-валидации при k от 1 до 50\n",
    "\n",
    "def test_accuracy(kf, X, y):\n",
    "    scores = list()\n",
    "    k_range = range(1, 51)\n",
    "    for k in k_range:\n",
    "        model = KNeighborsClassifier(n_neighbors=k)\n",
    "        scores.append(cross_val_score(model, X, y, cv=kf, scoring='accuracy'))\n",
    "\n",
    "    return pd.DataFrame(scores, k_range).mean(axis=1).sort_values(ascending=False)\n"
   ]
  },
  {
   "cell_type": "code",
   "execution_count": 22,
   "metadata": {},
   "outputs": [
    {
     "name": "stdout",
     "output_type": "stream",
     "text": [
      "1 1\n",
      "2 0.7304761904761905\n"
     ]
    }
   ],
   "source": [
    "# Выбираем долю верных ответов (accuracy), как меру качества\n",
    "\n",
    "accuracy = test_accuracy(kf, X, y)\n",
    "top_accuracy = accuracy.head(1)\n",
    "print(1, top_accuracy.index[0])\n",
    "print(2, top_accuracy.values[0])"
   ]
  },
  {
   "cell_type": "code",
   "execution_count": 23,
   "metadata": {},
   "outputs": [
    {
     "name": "stdout",
     "output_type": "stream",
     "text": [
      "[[ 1.51861254 -0.5622498   0.23205254 ...  0.36217728  1.84791957\n",
      "   1.01300893]\n",
      " [ 0.24628963 -0.49941338 -0.82799632 ...  0.40605066  1.1134493\n",
      "   0.96524152]\n",
      " [ 0.19687903  0.02123125  1.10933436 ...  0.31830389  0.78858745\n",
      "   1.39514818]\n",
      " ...\n",
      " [ 0.33275817  1.74474449 -0.38935541 ... -1.61212515 -1.48544548\n",
      "   0.28057537]\n",
      " [ 0.20923168  0.22769377  0.01273209 ... -1.56825176 -1.40069891\n",
      "   0.29649784]\n",
      " [ 1.39508604  1.58316512  1.36520822 ... -1.52437837 -1.42894777\n",
      "  -0.59516041]]\n"
     ]
    }
   ],
   "source": [
    "# Произведите масштабирование признаков с помощью функции sklearn.preprocessing.scale.\n",
    "\n",
    "X = sklearn.preprocessing.scale(X)\n",
    "print (X)"
   ]
  },
  {
   "cell_type": "code",
   "execution_count": 24,
   "metadata": {},
   "outputs": [
    {
     "name": "stdout",
     "output_type": "stream",
     "text": [
      "29    0.977619\n",
      "16    0.972063\n",
      "15    0.972063\n",
      "18    0.966508\n",
      "17    0.966508\n",
      "20    0.966508\n",
      "22    0.966508\n",
      "14    0.966349\n",
      "28    0.966349\n",
      "33    0.966349\n",
      "34    0.966349\n",
      "43    0.966349\n",
      "41    0.966349\n",
      "45    0.966349\n",
      "21    0.960952\n",
      "11    0.960952\n",
      "23    0.960952\n",
      "38    0.960794\n",
      "9     0.960794\n",
      "10    0.960794\n",
      "26    0.960794\n",
      "39    0.960794\n",
      "42    0.960794\n",
      "30    0.960794\n",
      "32    0.960794\n",
      "40    0.960794\n",
      "35    0.960794\n",
      "36    0.960794\n",
      "44    0.960635\n",
      "50    0.960635\n",
      "19    0.955397\n",
      "12    0.955238\n",
      "8     0.955238\n",
      "25    0.955238\n",
      "24    0.955238\n",
      "27    0.955238\n",
      "31    0.955238\n",
      "37    0.955238\n",
      "49    0.955079\n",
      "47    0.955079\n",
      "3     0.955079\n",
      "46    0.949524\n",
      "48    0.949524\n",
      "7     0.949524\n",
      "6     0.949524\n",
      "13    0.949524\n",
      "5     0.949365\n",
      "1     0.943968\n",
      "4     0.938254\n",
      "2     0.932857\n",
      "dtype: float64\n"
     ]
    }
   ],
   "source": [
    "accuracy = test_accuracy(kf, X, y)\n",
    "print (accuracy)"
   ]
  },
  {
   "cell_type": "code",
   "execution_count": 25,
   "metadata": {},
   "outputs": [
    {
     "name": "stdout",
     "output_type": "stream",
     "text": [
      "3 29\n",
      "4 0.9776190476190475\n"
     ]
    }
   ],
   "source": [
    "# Какое значение k получилось оптимальным после приведения признаков к одному масштабу?\n",
    "\n",
    "top_accuracy = accuracy.head(1)\n",
    "print(3, top_accuracy.index[0])\n",
    "print(4, top_accuracy.values[0])"
   ]
  },
  {
   "cell_type": "code",
   "execution_count": null,
   "metadata": {},
   "outputs": [],
   "source": []
  }
 ],
 "metadata": {
  "kernelspec": {
   "display_name": "Python 3",
   "language": "python",
   "name": "python3"
  },
  "language_info": {
   "codemirror_mode": {
    "name": "ipython",
    "version": 3
   },
   "file_extension": ".py",
   "mimetype": "text/x-python",
   "name": "python",
   "nbconvert_exporter": "python",
   "pygments_lexer": "ipython3",
   "version": "3.6.4"
  }
 },
 "nbformat": 4,
 "nbformat_minor": 2
}
